{
 "cells": [
  {
   "cell_type": "markdown",
   "id": "ed5bf878",
   "metadata": {},
   "source": [
    "### Импорт библиотек"
   ]
  },
  {
   "cell_type": "code",
   "execution_count": 1,
   "id": "bab01763",
   "metadata": {},
   "outputs": [],
   "source": [
    "import tarfile\n",
    "import json \n",
    "from typing import List\n",
    "from functools import partial\n",
    "import random\n",
    "\n",
    "import pandas as pd\n",
    "import numpy as np\n",
    "import matplotlib.pyplot as plt\n",
    "import seaborn as sns\n",
    "\n",
    "from scipy.spatial.distance import euclidean, cosine\n",
    "from sklearn.metrics import pairwise_distances\n",
    "\n",
    "from sklearn.model_selection import train_test_split\n",
    "from catboost import CatBoostClassifier, Pool\n",
    "from catboost.utils import eval_metric\n",
    "from sklearn.discriminant_analysis import QuadraticDiscriminantAnalysis\n",
    "from sklearn.discriminant_analysis import LinearDiscriminantAnalysis\n",
    "from sklearn.naive_bayes import BernoulliNB\n",
    "from sklearn.naive_bayes import GaussianNB\n",
    "from sklearn.neighbors import KNeighborsClassifier\n",
    "from sklearn.linear_model import LogisticRegression\n",
    "from sklearn.linear_model import SGDClassifier\n",
    "from sklearn.linear_model import Perceptron\n",
    "from sklearn.tree import DecisionTreeClassifier\n",
    "from sklearn.tree import ExtraTreeClassifier\n",
    "from sklearn.neural_network import MLPClassifier\n",
    "\n",
    "from sklearn.ensemble import AdaBoostClassifier\n",
    "from sklearn.ensemble import BaggingClassifier\n",
    "from sklearn.ensemble import ExtraTreesClassifier\n",
    "from sklearn.ensemble import GradientBoostingClassifier\n",
    "from sklearn.ensemble import RandomForestClassifier\n",
    "from sklearn.ensemble import StackingClassifier\n",
    "from sklearn.ensemble import VotingClassifier\n",
    "from sklearn.ensemble import AdaBoostRegressor\n",
    "from sklearn.svm import SVC\n",
    "from imblearn.ensemble import BalancedBaggingClassifier\n",
    "from imblearn.ensemble import BalancedRandomForestClassifier\n",
    "\n",
    "from imblearn.over_sampling import ADASYN\n",
    "\n",
    "from sklearn.model_selection import GridSearchCV\n",
    "from sklearn.model_selection import RandomizedSearchCV\n",
    "from sklearn.model_selection import RepeatedStratifiedKFold\n",
    "\n",
    "from sklearn.metrics import auc, roc_auc_score, roc_curve\n",
    "from sklearn.metrics import accuracy_score\n",
    "from sklearn.metrics import precision_score\n",
    "from sklearn.metrics import recall_score\n",
    "from sklearn.metrics import f1_score\n",
    "from sklearn.metrics import jaccard_score\n",
    "from sklearn.metrics import confusion_matrix\n",
    "from sklearn.metrics import precision_recall_curve\n",
    "from sklearn.metrics import average_precision_score,  mean_squared_error, adjusted_rand_score\n",
    "from sklearn.metrics import make_scorer"
   ]
  },
  {
   "cell_type": "markdown",
   "id": "5e7b4a3d",
   "metadata": {},
   "source": [
    "### Загрузка данных"
   ]
  },
  {
   "cell_type": "code",
   "execution_count": 2,
   "id": "2da49209",
   "metadata": {},
   "outputs": [],
   "source": [
    "#Распаковка архива\n",
    "zipfile = 'hackathon_files_for_participants_ozon.tar.gz'\n",
    "tar = tarfile.open(zipfile,\"r:gz\")\n",
    "tar.extractall()\n",
    "tar.close()"
   ]
  },
  {
   "cell_type": "code",
   "execution_count": 3,
   "id": "59c30fbd",
   "metadata": {},
   "outputs": [],
   "source": [
    "#Загрузка данных\n",
    "df_train = pd.read_parquet('hackathon_files_for_participants_ozon/train_data.parquet', engine='pyarrow').reset_index(drop=True)\n",
    "df_test = pd.read_parquet('hackathon_files_for_participants_ozon/test_data.parquet', engine='pyarrow').reset_index(drop=True)\n",
    "df_train_pairs = pd.read_parquet('hackathon_files_for_participants_ozon/train_pairs.parquet', engine='pyarrow').reset_index(drop=True)\n",
    "df_test_pairs = pd.read_parquet('hackathon_files_for_participants_ozon/test_pairs_wo_target.parquet', engine='pyarrow').reset_index(drop=True)"
   ]
  },
  {
   "cell_type": "code",
   "execution_count": 4,
   "id": "8486bfd6",
   "metadata": {},
   "outputs": [],
   "source": [
    "#Категории по уровням\n",
    "df_train = df_train.join(pd.json_normalize(df_train.categories.apply(json.loads)))\n",
    "df_test = df_test.join(pd.json_normalize(df_test.categories.apply(json.loads)))"
   ]
  },
  {
   "cell_type": "code",
   "execution_count": 5,
   "id": "39f5e4e0",
   "metadata": {},
   "outputs": [],
   "source": [
    "df_train.rename(columns = {'1':'cat1', '2':'cat2', '3':'cat3', '4':'cat4'}, inplace = True )\n",
    "df_test.rename(columns = {'1':'cat1', '2':'cat2', '3':'cat3', '4':'cat4'}, inplace = True )"
   ]
  },
  {
   "cell_type": "code",
   "execution_count": 6,
   "id": "b85f0b5b",
   "metadata": {},
   "outputs": [
    {
     "data": {
      "text/plain": [
       "(457063, 12)"
      ]
     },
     "execution_count": 6,
     "metadata": {},
     "output_type": "execute_result"
    }
   ],
   "source": [
    "df_train.shape"
   ]
  },
  {
   "cell_type": "code",
   "execution_count": 7,
   "id": "5b535d1c",
   "metadata": {},
   "outputs": [
    {
     "data": {
      "text/plain": [
       "{'Смартфоны, планшеты, мобильные телефоны': 59389,\n",
       " 'Компьютер': 57572,\n",
       " 'Чехол': 40775,\n",
       " 'Расходник для печати': 38878,\n",
       " 'Кабели и переходники': 26669,\n",
       " 'Наушники и гарнитуры': 16944,\n",
       " 'Смарт-часы': 14811,\n",
       " 'Устройство ручного ввода': 14235,\n",
       " 'Батарейки и аккумуляторы': 12548,\n",
       " 'Зарядные устройства и док-станции': 12014,\n",
       " 'Запчасти для ноутбуков': 11791,\n",
       " 'Запчасти для смартфонов': 10716,\n",
       " 'Жесткие диски, SSD и сетевые накопители': 10221,\n",
       " 'Материнская плата': 9895,\n",
       " 'Видеонаблюдение': 9791,\n",
       " 'Защитные пленки и стекла': 9225,\n",
       " 'Оптические приборы': 5874,\n",
       " 'Карты памяти и флешки': 5741,\n",
       " 'Телевизоры': 5504,\n",
       " 'Игровая приставка': 5300,\n",
       " 'Акустика и колонки': 5287,\n",
       " 'Электронные модули': 5144,\n",
       " 'Сетевое оборудование': 5026,\n",
       " 'Видеокарты и графические ускорители': 4578,\n",
       " 'Мониторы и запчасти': 4361,\n",
       " 'Оперативная память': 3877,\n",
       " 'Сетевые фильтры, разветвители и удлинители': 3658,\n",
       " 'Принтеры и МФУ': 3643,\n",
       " 'Аксессуары для фото и видеотехники': 2905,\n",
       " 'Кронштейн': 2650,\n",
       " 'Видеорегистратор': 2638,\n",
       " 'Процессор': 2407,\n",
       " 'ИБП': 2378,\n",
       " 'Коврик для мыши': 2295,\n",
       " 'Системы охлаждения для компьютеров': 2112,\n",
       " 'Рюкзаки, чехлы, сумки': 1903,\n",
       " 'Микрофоны и аксессуары': 1846,\n",
       " 'Домофон': 1789,\n",
       " 'Умный дом': 1771,\n",
       " 'Блоки питания': 1706,\n",
       " 'Проводные и DECT-телефоны': 1395,\n",
       " 'Видеокамеры': 1342,\n",
       " 'Антенны и аксессуары': 1091,\n",
       " 'Корпуса для компьютеров': 1061,\n",
       " 'Офисная техника': 1011,\n",
       " 'Расходные материалы': 917,\n",
       " 'Штативы и головки': 841,\n",
       " 'Усилители, ресиверы и ЦАПы': 704,\n",
       " 'Запчасти для аудио/видеотехники': 694,\n",
       " 'Проектор': 620,\n",
       " 'Фотоаппараты': 567,\n",
       " 'Охранная система': 519,\n",
       " 'Объектив': 505,\n",
       " 'ТВ-приставки и медиаплееры': 496,\n",
       " 'Аксессуары для игровых приставок': 479,\n",
       " 'Магнитола': 474,\n",
       " 'Электронное оборудование для торговли': 459,\n",
       " 'Виниловые проигрыватели и аксессуары': 441,\n",
       " 'Сетевые адаптеры и PoE-инжекторы': 433,\n",
       " 'MP3-плееры': 375,\n",
       " 'Звуковая карта': 330,\n",
       " 'Гаджет': 312,\n",
       " 'SIM-карты': 297,\n",
       " 'Навигаторы': 278,\n",
       " 'Графический планшет': 240,\n",
       " 'Запчасти и аксессуары для проекторов': 177,\n",
       " 'Домашний кинотеатр': 173,\n",
       " 'Сценическое оборудование и свет': 161,\n",
       " 'Аксессуары для квадрокоптеров': 135,\n",
       " 'Электронная книга': 133,\n",
       " 'Часы и электронные будильники': 117,\n",
       " 'Очки виртуальной реальности': 90,\n",
       " 'CD проигрыватели и плееры': 67,\n",
       " 'Детское творчество и развитие': 50,\n",
       " 'Электрика': 16,\n",
       " 'Игрушки': 15,\n",
       " 'DVD и Blu-ray плееры': 15,\n",
       " 'Демонстрационное оборудование': 14,\n",
       " 'Роботы и дроны': 12,\n",
       " 'Аккумуляторы': 12,\n",
       " 'Принадлежности для АКБ': 11,\n",
       " 'Канцелярия': 10,\n",
       " 'Часы': 9,\n",
       " 'Автоаксессуары и принадлежности': 8,\n",
       " 'Ручки, замки и фурнитура': 6,\n",
       " 'Светильник': 5,\n",
       " 'Товары для праздников': 5,\n",
       " 'Электромобили детские': 5,\n",
       " 'Фонари и аксессуары': 5,\n",
       " 'Измерительный инструмент': 5,\n",
       " 'Электроустановочные изделия': 5,\n",
       " 'Обучающие игры': 4,\n",
       " 'Бумага': 3,\n",
       " 'Аккумуляторы и аксессуары': 3,\n",
       " 'Моющие и чистящие средства': 3,\n",
       " 'Автомобильные масла': 2,\n",
       " 'Аксессуар для пылесоса': 2,\n",
       " 'Бумажная продукция': 2,\n",
       " 'Фитнес-браслеты и кардиомониторы': 2,\n",
       " 'Автозвук': 2,\n",
       " 'Паяльное оборудование': 2,\n",
       " 'Сумка': 2,\n",
       " 'Печати и штампы': 2,\n",
       " 'Бинокли и подзорные трубы': 2,\n",
       " 'Электрооборудование автомобиля': 1,\n",
       " 'Радиоуправляемые игрушки': 1,\n",
       " 'Товар для ухода за животными': 1,\n",
       " 'Запчасти, аксессуары': 1,\n",
       " 'Утюги и отпариватели': 1,\n",
       " 'Декор и интерьер': 1,\n",
       " 'Автомагнитола': 1,\n",
       " 'Хранение продуктов': 1,\n",
       " 'Конструкторы': 1,\n",
       " 'Ниппели, вентили и секретки': 1,\n",
       " 'Детские рюкзаки, ранцы, сумки': 1,\n",
       " 'Шторы и карнизы': 1,\n",
       " 'Секс игрушки': 1,\n",
       " 'Набор для рукоделия, творчества': 1,\n",
       " 'Аксессуар для рукоделия': 1,\n",
       " 'Товары для велоспорта': 1,\n",
       " 'Калибратор': 1,\n",
       " 'Погодные станции и датчики': 1,\n",
       " 'Спортивные чехлы и сумки': 1,\n",
       " 'Охота и стрельба': 1,\n",
       " 'Солнечная, ветряная электростанция': 1,\n",
       " 'Сувениры и подарки': 1,\n",
       " 'Мотоаксессуары': 1}"
      ]
     },
     "execution_count": 7,
     "metadata": {},
     "output_type": "execute_result"
    }
   ],
   "source": [
    "cat3_counts = df_train.cat3.value_counts().to_dict()\n",
    "cat3_counts"
   ]
  },
  {
   "cell_type": "code",
   "execution_count": 8,
   "id": "1e38890e",
   "metadata": {},
   "outputs": [
    {
     "data": {
      "text/plain": [
       "4480"
      ]
     },
     "execution_count": 8,
     "metadata": {},
     "output_type": "execute_result"
    }
   ],
   "source": [
    "cntr = 0\n",
    "for cat3 in cat3_counts:\n",
    "    if cat3_counts[cat3] < 470:\n",
    "        cntr += cat3_counts[cat3]\n",
    "        \n",
    "cntr"
   ]
  },
  {
   "cell_type": "code",
   "execution_count": 9,
   "id": "a0ac3549",
   "metadata": {},
   "outputs": [],
   "source": [
    "df_train['cat3_grouped'] = df_train.cat3.apply(lambda x: x if cat3_counts[x] > 470 else 'rest')"
   ]
  },
  {
   "cell_type": "markdown",
   "id": "bb657159",
   "metadata": {},
   "source": [
    "### Предобработка данных"
   ]
  },
  {
   "cell_type": "code",
   "execution_count": 10,
   "id": "7b9a242d",
   "metadata": {},
   "outputs": [],
   "source": [
    "merged = df_train_pairs.merge(df_train.add_suffix('1'), on = 'variantid1', how = 'left')\n",
    "train = merged.merge(df_train.add_suffix('2'), on = 'variantid2', how = 'left')"
   ]
  },
  {
   "cell_type": "code",
   "execution_count": 11,
   "id": "2e648a78",
   "metadata": {},
   "outputs": [],
   "source": [
    "merged = df_test_pairs.merge(df_test.add_suffix('1'), on = 'variantid1', how = 'left')\n",
    "test = merged.merge(df_test.add_suffix('2'), on = 'variantid2', how = 'left')"
   ]
  },
  {
   "cell_type": "code",
   "execution_count": 12,
   "id": "ec8ca5fa",
   "metadata": {},
   "outputs": [],
   "source": [
    "#Косинусное расстояние (картинки)\n",
    "def get_pic_features(main_pic_embeddings_1,\n",
    "                     main_pic_embeddings_2,\n",
    "                    percentiles: List[int]):      \n",
    "    if main_pic_embeddings_1 is not None and main_pic_embeddings_2 is not None:\n",
    "        main_pic_embeddings_1 = np.array([x for x in main_pic_embeddings_1])\n",
    "        main_pic_embeddings_2 = np.array([x for x in main_pic_embeddings_2])\n",
    "        \n",
    "        dist_m = np.array(pairwise_distances(main_pic_embeddings_1, main_pic_embeddings_2, metric='cosine'))\n",
    "    else:\n",
    "        dist_m = np.array([[-1]])\n",
    "        \n",
    "    pair_features = []\n",
    "    pair_features += np.percentile(dist_m, percentiles).tolist()\n",
    "   \n",
    "\n",
    "    return pair_features\n",
    "\n",
    "\n"
   ]
  },
  {
   "cell_type": "code",
   "execution_count": 13,
   "id": "cac3ed76",
   "metadata": {},
   "outputs": [
    {
     "name": "stderr",
     "output_type": "stream",
     "text": [
      "[nltk_data] Downloading package punkt to\n",
      "[nltk_data]     C:\\Users\\tamar\\AppData\\Roaming\\nltk_data...\n",
      "[nltk_data]   Package punkt is already up-to-date!\n"
     ]
    }
   ],
   "source": [
    "#Косинусное сходство (текст)\n",
    "import nltk, string\n",
    "from sklearn.feature_extraction.text import TfidfVectorizer\n",
    "nltk.download('punkt') # if necessary...\n",
    "stemmer = nltk.stem.porter.PorterStemmer()\n",
    "remove_punctuation_map = dict((ord(char), None) for char in string.punctuation)\n",
    "def stem_tokens(tokens):\n",
    "    return [stemmer.stem(item) for item in tokens]\n",
    "'''remove punctuation, lowercase, stem'''\n",
    "def normalize(text):\n",
    "    return stem_tokens(nltk.word_tokenize(text.lower().translate(remove_punctuation_map)))\n",
    "vectorizer = TfidfVectorizer(tokenizer=normalize, stop_words=['english','russian'])\n",
    "def cosine_sim(text1, text2):\n",
    "    try:\n",
    "        tfidf = vectorizer.fit_transform([text1, text2])\n",
    "        cos_sim = ((tfidf * tfidf.T).A)[0,1]\n",
    "    except: \n",
    "        cos_sim = 0\n",
    "    return cos_sim"
   ]
  },
  {
   "cell_type": "code",
   "execution_count": 14,
   "id": "10350ff5",
   "metadata": {},
   "outputs": [],
   "source": [
    "#Заполним пропуски\n",
    "train.characteristic_attributes_mapping1.fillna('{}', inplace=True)\n",
    "train.characteristic_attributes_mapping2.fillna('{}', inplace=True)\n",
    "test.characteristic_attributes_mapping1.fillna('{}', inplace=True)\n",
    "test.characteristic_attributes_mapping2.fillna('{}', inplace=True)"
   ]
  },
  {
   "cell_type": "code",
   "execution_count": 15,
   "id": "c3d5e9db",
   "metadata": {},
   "outputs": [],
   "source": [
    "#Оставим только совпадающие характеристики\n",
    "def attr(attributes1, attributes2):\n",
    "    dict1 = json.loads(attributes1)\n",
    "    dict2 = json.loads(attributes2)\n",
    "    common_keys = set(dict1.keys()) & set(dict2.keys())\n",
    "    new_dict1 = {key: dict1[key] for key in common_keys}\n",
    "    new_dict2 = {key: dict2[key] for key in common_keys}\n",
    "    attributes1 = ' '.join('{}: {}; '.format(key,', '.join(str(x) for x in val)) for key, val in new_dict1.items())\n",
    "    attributes2 = ' '.join('{}: {}; '.format(key,', '.join(str(x) for x in val)) for key, val in new_dict2.items())\n",
    "    return attributes1, attributes2"
   ]
  },
  {
   "cell_type": "code",
   "execution_count": 16,
   "id": "99fbb479",
   "metadata": {},
   "outputs": [],
   "source": [
    "get_pic_features_func = partial(get_pic_features,percentiles=[0, 25, 50, 75])"
   ]
  },
  {
   "cell_type": "code",
   "execution_count": 17,
   "id": "60dcd2c8",
   "metadata": {},
   "outputs": [],
   "source": [
    "train[['attributes1', 'attributes2']] = (\n",
    "    train[['characteristic_attributes_mapping1', 'characteristic_attributes_mapping2']].apply(\n",
    "        lambda x: pd.Series(attr(*x)), axis=1))\n",
    "test[['attributes1', 'attributes2']] = (\n",
    "    test[['characteristic_attributes_mapping1', 'characteristic_attributes_mapping2']].apply(\n",
    "        lambda x: pd.Series(attr(*x)), axis=1))"
   ]
  },
  {
   "cell_type": "code",
   "execution_count": 18,
   "id": "0d868fcb",
   "metadata": {},
   "outputs": [],
   "source": [
    "train[['main_pic_dist_0_perc', 'main_pic_dist_25_perc', 'main_pic_dist_50_perc', 'main_pic_dist_75_perc']] = (\n",
    "    train[['main_pic_embeddings_resnet_v11', 'main_pic_embeddings_resnet_v12']].apply(\n",
    "        lambda x: pd.Series(get_pic_features_func(*x)), axis=1))\n",
    "train[['pic_dist_0_perc', 'pic_dist_25_perc', 'pic_dist_50_perc', 'pic_dist_75_perc']] = (\n",
    "    train[['pic_embeddings_resnet_v11', 'pic_embeddings_resnet_v12']].apply(\n",
    "        lambda x: pd.Series(get_pic_features_func(*x)), axis=1))"
   ]
  },
  {
   "cell_type": "code",
   "execution_count": 19,
   "id": "c954f09d",
   "metadata": {},
   "outputs": [],
   "source": [
    "train['cosine_name_sim'] = (\n",
    "    train[['name1', 'name2']].apply(\n",
    "        lambda x: pd.Series(cosine_sim(*x)), axis=1))\n",
    "train['cosine_attr_sim'] = (\n",
    "    train[['attributes1', 'attributes2']].apply(\n",
    "        lambda x: pd.Series(cosine_sim(*x)), axis=1))"
   ]
  },
  {
   "cell_type": "code",
   "execution_count": 20,
   "id": "788823b0",
   "metadata": {},
   "outputs": [],
   "source": [
    "test[['main_pic_dist_0_perc', 'main_pic_dist_25_perc', 'main_pic_dist_50_perc', 'main_pic_dist_75_perc']] = (\n",
    "    test[['main_pic_embeddings_resnet_v11', 'main_pic_embeddings_resnet_v12']].apply(\n",
    "        lambda x: pd.Series(get_pic_features_func(*x)), axis=1))\n",
    "test[['pic_dist_0_perc', 'pic_dist_25_perc', 'pic_dist_50_perc', 'pic_dist_75_perc']] = (\n",
    "    test[['pic_embeddings_resnet_v11', 'pic_embeddings_resnet_v12']].apply(\n",
    "        lambda x: pd.Series(get_pic_features_func(*x)), axis=1))"
   ]
  },
  {
   "cell_type": "code",
   "execution_count": 21,
   "id": "87beaa76",
   "metadata": {},
   "outputs": [],
   "source": [
    "test['cosine_name_sim'] = (\n",
    "    test[['name1', 'name2']].apply(\n",
    "        lambda x: pd.Series(cosine_sim(*x)), axis=1))\n",
    "test['cosine_attr_sim'] = (\n",
    "    test[['attributes1', 'attributes2']].apply(\n",
    "        lambda x: pd.Series(cosine_sim(*x)), axis=1))"
   ]
  },
  {
   "cell_type": "code",
   "execution_count": 22,
   "id": "77ada1e1",
   "metadata": {},
   "outputs": [],
   "source": [
    "train['cosine_cat4_sim'] = (\n",
    "    train[['cat41', 'cat42']].apply(\n",
    "        lambda x: pd.Series(cosine_sim(*x)), axis=1))"
   ]
  },
  {
   "cell_type": "code",
   "execution_count": 23,
   "id": "b4a12049",
   "metadata": {},
   "outputs": [],
   "source": [
    "test['cosine_cat4_sim'] = (\n",
    "    test[['cat41', 'cat42']].apply(\n",
    "        lambda x: pd.Series(cosine_sim(*x)), axis=1))"
   ]
  },
  {
   "cell_type": "code",
   "execution_count": 24,
   "id": "43c3cda7",
   "metadata": {},
   "outputs": [],
   "source": [
    "feats = ['main_pic_dist_0_perc', 'main_pic_dist_25_perc', 'main_pic_dist_50_perc', 'main_pic_dist_75_perc', 'pic_dist_0_perc', 'pic_dist_25_perc', 'pic_dist_50_perc', 'pic_dist_75_perc', 'cosine_name_sim', 'cosine_attr_sim', 'cosine_cat4_sim']"
   ]
  },
  {
   "cell_type": "code",
   "execution_count": 25,
   "id": "c481b447",
   "metadata": {},
   "outputs": [],
   "source": [
    "import numpy as np\n",
    "from sklearn.metrics import precision_recall_curve, auc\n",
    "\n",
    "\n",
    "def pr_auc_macro(\n",
    "    target_df: pd.DataFrame,\n",
    "    predictions_df: pd.DataFrame,\n",
    "    prec_level: float = 0.75,\n",
    "    cat_column: str = \"cat3_grouped1\"\n",
    ") -> float:\n",
    "\n",
    "    df = target_df.merge(predictions_df, on=[\"variantid1\", \"variantid2\"])\n",
    "\n",
    "    y_true = df[\"target\"]\n",
    "    y_pred = df[\"scores\"]\n",
    "    categories = df[cat_column]\n",
    "\n",
    "    weights = []\n",
    "    pr_aucs = []\n",
    "\n",
    "    unique_cats, counts = np.unique(categories, return_counts=True)\n",
    "\n",
    "    # calculate metric for each big category\n",
    "    for i, category in enumerate(unique_cats):\n",
    "        # take just a certain category\n",
    "        cat_idx = np.where(categories == category)[0]\n",
    "        y_pred_cat = y_pred[cat_idx]\n",
    "        y_true_cat = y_true[cat_idx]\n",
    "\n",
    "        # if there is no matches in the category then PRAUC=0\n",
    "        if sum(y_true_cat) == 0:\n",
    "            pr_aucs.append(0)\n",
    "            weights.append(counts[i] / len(categories))\n",
    "            continue\n",
    "        \n",
    "        # get coordinates (x, y) for (recall, precision) of PR-curve\n",
    "        y, x, _ = precision_recall_curve(y_true_cat, y_pred_cat)\n",
    "        \n",
    "        # reverse the lists so that x's are in ascending order (left to right)\n",
    "        y = y[::-1]\n",
    "        x = x[::-1]\n",
    "        \n",
    "        # get indices for x-coordinate (recall) where y-coordinate (precision) \n",
    "        # is higher than precision level (75% for our task)\n",
    "        good_idx = np.where(y >= prec_level)[0]\n",
    "        \n",
    "        # if there are more than one such x's (at least one is always there, \n",
    "        # it's x=0 (recall=0)) we get a grid from x=0, to the rightest x \n",
    "        # with acceptable precision\n",
    "        if len(good_idx) > 1:\n",
    "            gt_prec_level_idx = np.arange(0, good_idx[-1] + 1)\n",
    "        # if there is only one such x, then we have zeros in the top scores \n",
    "        # and the curve simply goes down sharply at x=0 and does not rise \n",
    "        # above the required precision: PRAUC=0\n",
    "        else:\n",
    "            pr_aucs.append(0)\n",
    "            weights.append(counts[i] / len(categories))\n",
    "            continue\n",
    "        \n",
    "        # calculate category weight anyway\n",
    "        weights.append(counts[i] / len(categories))\n",
    "        # calculate PRAUC for all points where the rightest x \n",
    "        # still has required precision \n",
    "        try:\n",
    "            pr_auc_prec_level = auc(x[gt_prec_level_idx], y[gt_prec_level_idx])\n",
    "            if not np.isnan(pr_auc_prec_level):\n",
    "                pr_aucs.append(pr_auc_prec_level)\n",
    "        except ValueError:\n",
    "            pr_aucs.append(0)\n",
    "            \n",
    "    return np.average(pr_aucs, weights=weights)"
   ]
  },
  {
   "cell_type": "code",
   "execution_count": 26,
   "id": "5cacb901",
   "metadata": {},
   "outputs": [],
   "source": [
    "def all_metrics(y_true, y_pred, y_pred_proba, y_test, X_test):\n",
    "    dict_metric = {}\n",
    "    P = np.sum(y_true == 1)\n",
    "    N = np.sum(y_true == 0)\n",
    "    TP = np.sum((y_true == 1) & (y_pred == 1))\n",
    "    TN = np.sum((y_true == 0) & (y_pred == 0))\n",
    "    FP = np.sum((y_true == 1) & (y_pred == 0))\n",
    "    FN = np.sum((y_true == 0) & (y_pred == 1))\n",
    "    \n",
    "    pr_auc_macro_metr = pr_auc_macro(\n",
    "            target_df=pd.DataFrame(y_test), \n",
    "            predictions_df=X_test,\n",
    "            prec_level=0.75,\n",
    "            cat_column='cat3_grouped1'\n",
    "            )\n",
    "\n",
    "    dict_metric['P'] = [P, 'ЕСТЬ совпадение товаров']\n",
    "    dict_metric['N'] = [N, 'НЕТ совпадения товаров ']\n",
    "    dict_metric['TP'] = [TP, 'Истинно совпавшие']\n",
    "    dict_metric['TN'] = [TN, 'Истинно не-совпавшие']\n",
    "    dict_metric['FP'] = [FP, 'Ложно совпавшие']\n",
    "    dict_metric['FN'] = [FN, 'Ложно не-совпавшие']\n",
    "    dict_metric['Accuracy'] = [accuracy_score(y_true, y_pred), 'Доля верно определённых']\n",
    "    dict_metric['Precision'] = [precision_score(y_true, y_pred), 'Точность определения']\n",
    "    dict_metric['Recall'] = [recall_score(y_true, y_pred), 'Полнота определения']\n",
    "    dict_metric['F1-score'] = [f1_score(y_true, y_pred),'Среднее гармоническое Precision и Recall']\n",
    "    dict_metric['ROC_AUC'] = [roc_auc_score(y_true, y_pred_proba), 'ROC-AUC']\n",
    "    dict_metric['AUPRC'] = [average_precision_score(y_true, y_pred_proba), 'AUPRC']\n",
    "    dict_metric['pr_auc_macro_metr'] = [pr_auc_macro_metr, 'pr_auc_macro_metr']\n",
    "\n",
    "    temp_df = pd.DataFrame.from_dict(dict_metric, orient='index', columns=['Значение', 'Описание метрики'])\n",
    "    display(temp_df)"
   ]
  },
  {
   "cell_type": "code",
   "execution_count": 27,
   "id": "fcf6ab87",
   "metadata": {},
   "outputs": [],
   "source": [
    "X_train, X_test = train_test_split(train[feats + ['target', 'variantid1', 'variantid2', 'cat3_grouped1']], \n",
    "    test_size=0.2, random_state=42, stratify=train[['target', 'cat3_grouped1']])\n",
    "\n",
    "X_train, X_val = train_test_split(X_train[feats + ['target', 'variantid1', 'variantid2', 'cat3_grouped1']], \n",
    "    test_size=0.2, random_state=42, stratify=X_train[['target', 'cat3_grouped1']])\n",
    "\n",
    "y_test = X_test[['target', 'variantid1', 'variantid2']]\n",
    "X_test = X_test.drop(['target'], axis=1)\n",
    "\n",
    "y_train = X_train['target']\n",
    "y_val = X_val['target']\n",
    "\n",
    "X_train = X_train.drop(['target'], axis=1)\n",
    "X_val = X_val.drop(['target'], axis=1)\n",
    "\n",
    "\n"
   ]
  },
  {
   "cell_type": "code",
   "execution_count": 28,
   "id": "7fb135b2",
   "metadata": {},
   "outputs": [
    {
     "name": "stdout",
     "output_type": "stream",
     "text": [
      "Лучшие параметры:  {'n_jobs': -1, 'n_estimators': 200, 'min_samples_split': 0.005, 'min_samples_leaf': 0.01, 'max_features': 'auto', 'max_depth': 6, 'criterion': 'entropy', 'class_weight': 'balanced'}\n",
      "average_precision_score:  0.5647652229727007\n"
     ]
    }
   ],
   "source": [
    "scoring = make_scorer(average_precision_score)\n",
    "\n",
    "parameters ={'n_estimators': [200],\n",
    "             'class_weight': [None, 'balanced'],\n",
    "             'max_features': ['auto', 'sqrt', 'log2'],\n",
    "             'max_depth' : [3, 4, 5, 6, 7, 8],\n",
    "             'min_samples_split': [0.005, 0.01, 0.05, 0.10],\n",
    "             'min_samples_leaf': [0.005, 0.01, 0.05, 0.10],\n",
    "             'criterion' :['gini', 'entropy']     ,\n",
    "             'n_jobs': [-1]\n",
    "           }\n",
    "\n",
    "rfc = RandomizedSearchCV(RandomForestClassifier(), parameters, cv=RepeatedStratifiedKFold(n_splits=2, n_repeats=2, random_state=random.seed()), scoring=scoring, n_jobs = -1)\n",
    "\n",
    "rfc.fit(X_train[feats], y_train.values)\n",
    "\n",
    "best_params_rfc = rfc.best_params_\n",
    "best_estimator_rfc = rfc.best_estimator_\n",
    "\n",
    "print('Лучшие параметры: ',rfc.best_params_)\n",
    "print('average_precision_score: ',rfc.best_score_)"
   ]
  },
  {
   "cell_type": "code",
   "execution_count": 29,
   "id": "3657dc87",
   "metadata": {},
   "outputs": [
    {
     "data": {
      "text/html": [
       "<div>\n",
       "<style scoped>\n",
       "    .dataframe tbody tr th:only-of-type {\n",
       "        vertical-align: middle;\n",
       "    }\n",
       "\n",
       "    .dataframe tbody tr th {\n",
       "        vertical-align: top;\n",
       "    }\n",
       "\n",
       "    .dataframe thead th {\n",
       "        text-align: right;\n",
       "    }\n",
       "</style>\n",
       "<table border=\"1\" class=\"dataframe\">\n",
       "  <thead>\n",
       "    <tr style=\"text-align: right;\">\n",
       "      <th></th>\n",
       "      <th>Значение</th>\n",
       "      <th>Описание метрики</th>\n",
       "    </tr>\n",
       "  </thead>\n",
       "  <tbody>\n",
       "    <tr>\n",
       "      <th>P</th>\n",
       "      <td>27003.000000</td>\n",
       "      <td>ЕСТЬ совпадение товаров</td>\n",
       "    </tr>\n",
       "    <tr>\n",
       "      <th>N</th>\n",
       "      <td>34305.000000</td>\n",
       "      <td>НЕТ совпадения товаров</td>\n",
       "    </tr>\n",
       "    <tr>\n",
       "      <th>TP</th>\n",
       "      <td>20415.000000</td>\n",
       "      <td>Истинно совпавшие</td>\n",
       "    </tr>\n",
       "    <tr>\n",
       "      <th>TN</th>\n",
       "      <td>24114.000000</td>\n",
       "      <td>Истинно не-совпавшие</td>\n",
       "    </tr>\n",
       "    <tr>\n",
       "      <th>FP</th>\n",
       "      <td>6588.000000</td>\n",
       "      <td>Ложно совпавшие</td>\n",
       "    </tr>\n",
       "    <tr>\n",
       "      <th>FN</th>\n",
       "      <td>10191.000000</td>\n",
       "      <td>Ложно не-совпавшие</td>\n",
       "    </tr>\n",
       "    <tr>\n",
       "      <th>Accuracy</th>\n",
       "      <td>0.726316</td>\n",
       "      <td>Доля верно определённых</td>\n",
       "    </tr>\n",
       "    <tr>\n",
       "      <th>Precision</th>\n",
       "      <td>0.667026</td>\n",
       "      <td>Точность определения</td>\n",
       "    </tr>\n",
       "    <tr>\n",
       "      <th>Recall</th>\n",
       "      <td>0.756027</td>\n",
       "      <td>Полнота определения</td>\n",
       "    </tr>\n",
       "    <tr>\n",
       "      <th>F1-score</th>\n",
       "      <td>0.708743</td>\n",
       "      <td>Среднее гармоническое Precision и Recall</td>\n",
       "    </tr>\n",
       "    <tr>\n",
       "      <th>ROC_AUC</th>\n",
       "      <td>0.809131</td>\n",
       "      <td>ROC-AUC</td>\n",
       "    </tr>\n",
       "    <tr>\n",
       "      <th>AUPRC</th>\n",
       "      <td>0.773236</td>\n",
       "      <td>AUPRC</td>\n",
       "    </tr>\n",
       "    <tr>\n",
       "      <th>pr_auc_macro_metr</th>\n",
       "      <td>0.330596</td>\n",
       "      <td>pr_auc_macro_metr</td>\n",
       "    </tr>\n",
       "  </tbody>\n",
       "</table>\n",
       "</div>"
      ],
      "text/plain": [
       "                       Значение                          Описание метрики\n",
       "P                  27003.000000                   ЕСТЬ совпадение товаров\n",
       "N                  34305.000000                   НЕТ совпадения товаров \n",
       "TP                 20415.000000                         Истинно совпавшие\n",
       "TN                 24114.000000                      Истинно не-совпавшие\n",
       "FP                  6588.000000                           Ложно совпавшие\n",
       "FN                 10191.000000                        Ложно не-совпавшие\n",
       "Accuracy               0.726316                   Доля верно определённых\n",
       "Precision              0.667026                      Точность определения\n",
       "Recall                 0.756027                       Полнота определения\n",
       "F1-score               0.708743  Среднее гармоническое Precision и Recall\n",
       "ROC_AUC                0.809131                                   ROC-AUC\n",
       "AUPRC                  0.773236                                     AUPRC\n",
       "pr_auc_macro_metr      0.330596                         pr_auc_macro_metr"
      ]
     },
     "metadata": {},
     "output_type": "display_data"
    }
   ],
   "source": [
    "\n",
    "model7 = AdaBoostClassifier(base_estimator=RandomForestClassifier(**best_params_rfc)\n",
    ",algorithm='SAMME.R')\n",
    "\n",
    "model7.fit(X_train[feats], y_train.values)\n",
    "\n",
    "y_pred_proba = model7.predict_proba(X_test[feats])[:, 1]\n",
    "y_pred = model7.predict(X_test[feats])\n",
    "X_test['scores'] = model7.predict_proba(X_test[feats])[:, 1]\n",
    "all_metrics(y_test.target, y_pred, y_pred_proba, y_test, X_test)"
   ]
  },
  {
   "cell_type": "code",
   "execution_count": 30,
   "id": "d25d65c9",
   "metadata": {},
   "outputs": [
    {
     "data": {
      "image/png": "[encoded data removed]",
      "text/plain": [
       "<Figure size 1500x700 with 1 Axes>"
      ]
     },
     "metadata": {},
     "output_type": "display_data"
    }
   ],
   "source": [
    "precision, recall, thrs = precision_recall_curve(y_test['target'], X_test['scores'])\n",
    "pr_auc = auc(recall, precision)\n",
    "\n",
    "fig, ax1 = plt.subplots(1, figsize=(15, 7))\n",
    "\n",
    "ax1.plot(recall, precision)\n",
    "ax1.axhline(y=0.75, color='grey', linestyle='-');"
   ]
  },
  {
   "cell_type": "code",
   "execution_count": 31,
   "id": "1e3f0dfc",
   "metadata": {},
   "outputs": [],
   "source": [
    "import pickle\n",
    "# save\n",
    "with open('model7.pkl','wb') as f:\n",
    "    pickle.dump(model7,f)"
   ]
  },
  {
   "cell_type": "code",
   "execution_count": 32,
   "id": "308e2c46",
   "metadata": {},
   "outputs": [],
   "source": [
    "# load\n",
    "with open('model7.pkl', 'rb') as f:\n",
    "    model7 = pickle.load(f)"
   ]
  },
  {
   "cell_type": "markdown",
   "id": "fd3f175c",
   "metadata": {},
   "source": [
    "### Submission"
   ]
  },
  {
   "cell_type": "code",
   "execution_count": 33,
   "id": "63a0540b",
   "metadata": {},
   "outputs": [
    {
     "data": {
      "text/plain": [
       "(18084, 37)"
      ]
     },
     "execution_count": 33,
     "metadata": {},
     "output_type": "execute_result"
    }
   ],
   "source": [
    "test.shape"
   ]
  },
  {
   "cell_type": "code",
   "execution_count": 34,
   "id": "1f434d8e",
   "metadata": {},
   "outputs": [
    {
     "data": {
      "text/plain": [
       "537"
      ]
     },
     "execution_count": 34,
     "metadata": {},
     "output_type": "execute_result"
    }
   ],
   "source": [
    "test_cat3_counts = test.cat31.value_counts().to_dict()\n",
    "\n",
    "cntr = 0\n",
    "for cat3 in test_cat3_counts:\n",
    "    if test_cat3_counts[cat3] < 50:\n",
    "        cntr += test_cat3_counts[cat3]\n",
    "        \n",
    "cntr"
   ]
  },
  {
   "cell_type": "code",
   "execution_count": 35,
   "id": "422026a7",
   "metadata": {},
   "outputs": [],
   "source": [
    "test['cat3_grouped'] = test.cat31.apply(lambda x: x if test_cat3_counts[x] > 50 else 'rest')"
   ]
  },
  {
   "cell_type": "code",
   "execution_count": 36,
   "id": "c8aab523",
   "metadata": {},
   "outputs": [],
   "source": [
    "submission = test.copy()"
   ]
  },
  {
   "cell_type": "code",
   "execution_count": 37,
   "id": "65fc8990",
   "metadata": {},
   "outputs": [],
   "source": [
    "submission['target'] = model7.predict_proba(test[feats])[:, 1]"
   ]
  },
  {
   "cell_type": "code",
   "execution_count": 38,
   "id": "f2de162c",
   "metadata": {},
   "outputs": [],
   "source": [
    "submission = submission[['variantid1', 'variantid2', 'cat3_grouped', 'target']]"
   ]
  },
  {
   "cell_type": "code",
   "execution_count": 39,
   "id": "68a2b88b",
   "metadata": {},
   "outputs": [],
   "source": [
    "submission.drop_duplicates().to_csv('submission_vc_m71.csv', index=False)"
   ]
  },
  {
   "cell_type": "code",
   "execution_count": null,
   "id": "5e902cff",
   "metadata": {},
   "outputs": [],
   "source": []
  },
  {
   "cell_type": "code",
   "execution_count": null,
   "id": "dd211d13",
   "metadata": {},
   "outputs": [],
   "source": []
  }
 ],
 "metadata": {
  "kernelspec": {
   "display_name": "Python 3 (ipykernel)",
   "language": "python",
   "name": "python3"
  },
  "language_info": {
   "codemirror_mode": {
    "name": "ipython",
    "version": 3
   },
   "file_extension": ".py",
   "mimetype": "text/x-python",
   "name": "python",
   "nbconvert_exporter": "python",
   "pygments_lexer": "ipython3",
   "version": "3.9.13"
  }
 },
 "nbformat": 4,
 "nbformat_minor": 5
}
